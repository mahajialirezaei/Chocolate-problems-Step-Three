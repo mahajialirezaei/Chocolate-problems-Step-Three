{
 "cells": [
  {
   "cell_type": "markdown",
   "metadata": {},
   "source": [
    "<h1 align=center style=\"line-height:200%;font-family:vazir;color:#0099cc\">\n",
    "<font face=\"vazirmatn\" color=\"#0099cc\">\n",
    "شکلات‌های خوب‌تر\n",
    "</font>\n",
    "</h1>\n"
   ]
  },
  {
   "attachments": {},
   "cell_type": "markdown",
   "metadata": {
    "id": "IoGqY4BtZ4If"
   },
   "source": [
    "<p dir=rtl style=\"direction: rtl;text-align: justify;line-height:200%;font-family:vazir;font-size:medium\">\n",
    "<font face=\"vazirmatn\" size=3>\n",
    "فرض کنید که بعد از میل کردن چند شکلات معمولی (غیر دارک) متوجه شده‌ایم که بسیاری از آن‌ها هم خوشمزه هستند و اگر بتوانیم موارد با کیفیت‌تر آن‌ها را پیدا کنیم احتمالاً فروش خوبی خواهند داشت. پس در گام آخر از پروژه می‌خواهیم شرکت‌هایی که شکلات‌های باکیفیت‌تری را تولید می‌کنند شناسایی کرده و شکلات‌های ‌‌آن‌ها را جدا کنیم.\n",
    "</font>\n",
    "</p>\n"
   ]
  },
  {
   "attachments": {},
   "cell_type": "markdown",
   "metadata": {},
   "source": [
    "<h2 align=right style=\"line-height:200%;font-family:vazir;color:#0099cc\">\n",
    "<font face=\"vazirmatn\" color=\"#0099cc\">\n",
    "مجموعه‌داده\n",
    "</font>\n",
    "</h2>\n",
    "\n",
    "<p dir=rtl style=\"direction: rtl;text-align: justify;line-height:200%;font-family:vazir;font-size:medium\">\n",
    "<font face=\"vazirmatn\" size=3>\n",
    "در گام پیشین قیمت شکلات‌ها را تخمین زده و دیتافریم نهایی را در فایلی به نام <code>chocolate_price.csv</code> ذخیره کردید. در ابتدا آن فایل را به شکل یک دیتافریم بخوانید.\n",
    "</font>\n",
    "</p>\n"
   ]
  },
  {
   "cell_type": "code",
   "execution_count": null,
   "metadata": {
    "colab": {
     "base_uri": "https://localhost:8080/",
     "height": 223
    },
    "executionInfo": {
     "elapsed": 532,
     "status": "ok",
     "timestamp": 1627498882795,
     "user": {
      "displayName": "Parto Shahroodi",
      "photoUrl": "https://lh3.googleusercontent.com/a-/AOh14GgVRnuIKtxzeAYtLGbbb7NnFc-HXqxuTOJ6OMw7uw=s64",
      "userId": "08853559073941204272"
     },
     "user_tz": -270
    },
    "id": "5zNJ61fR4cfU",
    "outputId": "37214551-b638-45d6-be7c-2af2fe1372f0"
   },
   "outputs": [],
   "source": [
    "import numpy as np\n",
    "import pandas as pd\n",
    "\n",
    "df = pd.read_csv('chocolate_price.csv')\n",
    "df.head()"
   ]
  },
  {
   "attachments": {},
   "cell_type": "markdown",
   "metadata": {},
   "source": [
    "<h2 align=right style=\"line-height:200%;font-family:vazir;color:#0099cc\">\n",
    "<font face=\"vazirmatn\" color=\"#0099cc\">\n",
    "قسمت اول\n",
    "</font>\n",
    "</h2>\n",
    "<p dir=rtl style=\"direction: rtl;text-align: justify;line-height:200%;font-family:vazir;font-size:medium\">\n",
    "<font face=\"vazirmatn\" size=3>\n",
    "توجه داشته باشید که در این گام تنها با شکلات‌های غیرتلخ کار داریم. پس در ابتدا تنها شکلات‌هایی که درصد کاکائوی آن‌ها کمتر یا مساوی  ۷۰ درصد است را جدا کرده و در دیتافریم <code>df</code> ذخیره کنید.\n",
    "</font>\n",
    "</p>\n",
    "<p dir=rtl style=\"direction: rtl;text-align: justify;line-height:200%;font-family:vazir;font-size:medium\">\n",
    "<font face=\"vazirmatn\" size=3>\n",
    "<span style=\"color:green\"><b>راهنمایی:</b></span>\n",
    "بعد از جداسازی و ساخت دیتافریم، به کمک تابع <code dir=ltr>reset_index()</code> نمایه‌ها را ریست کنید. در این مرحله به آرگومان‌های <code>inplace</code> و <code>drop</code> هم توجه کنید.\n",
    "</font>\n",
    "</p>"
   ]
  },
  {
   "cell_type": "code",
   "execution_count": null,
   "metadata": {},
   "outputs": [],
   "source": [
    "df = None # To-Do"
   ]
  },
  {
   "attachments": {},
   "cell_type": "markdown",
   "metadata": {
    "id": "4Dzvaz_EbL4W"
   },
   "source": [
    "<h2 align=right style=\"line-height:200%;font-family:vazir;color:#0099cc\">\n",
    "<font face=\"vazirmatn\" color=\"#0099cc\">\n",
    "قسمت دوم\n",
    "</font>\n",
    "</h2>\n",
    "<p dir=rtl style=\"direction: rtl;text-align: justify;line-height:200%;font-family:vazir;font-size:medium\">\n",
    "<font face=\"vazirmatn\" size=3>\n",
    "در این قسمت به ازای هر شرکت شکلات‌سازی، میانگین امتیاز شکلات‌های آن را برای هر سال محاسبه کرده و همچون جدول زیر در دیتافریم <code>companies</code> ذخیره کنید.\n",
    "\n",
    "<center>\n",
    "\n",
    "| | 2006 | ... | 2015 | 2016 | 2017 |\n",
    "| :---: | :---: | :---: | :---: | :---: | :---: |\n",
    "| A. Morin | NaN | ... | 63.75 | 75.0 | NaN |\n",
    "| ... | ... | ... | ... | ... | ...  |\n",
    "| hexx | NaN | ... | 60.00 | NaN | NaN |\n",
    "| twenty-four blackbirds | NaN | ... | NaN | NaN | NaN |\n",
    "\n",
    "</center>\n",
    "</font>\n",
    "</p>\n",
    "\n",
    "<p dir=rtl style=\"direction: rtl;text-align: justify;line-height:200%;font-family:vazir;font-size:medium\">\n",
    "<font face=\"vazirmatn\" size=3>\n",
    "<span style=\"color:green\"><b>راهنمایی:</b></span>\n",
    "بعد از استفاده از دستور <code>groupby</code> و محاسبه‌ی میانگین از دستور <code>unstack</code> استفاده کنید.\n",
    "</font>\n",
    "</p>"
   ]
  },
  {
   "cell_type": "code",
   "execution_count": null,
   "metadata": {
    "colab": {
     "base_uri": "https://localhost:8080/",
     "height": 423
    },
    "executionInfo": {
     "elapsed": 594,
     "status": "ok",
     "timestamp": 1627498890111,
     "user": {
      "displayName": "Parto Shahroodi",
      "photoUrl": "https://lh3.googleusercontent.com/a-/AOh14GgVRnuIKtxzeAYtLGbbb7NnFc-HXqxuTOJ6OMw7uw=s64",
      "userId": "08853559073941204272"
     },
     "user_tz": -270
    },
    "id": "ZUhHGdTcGcUs",
    "outputId": "e94f7d1b-e5e9-4946-8cca-45ef6880283c"
   },
   "outputs": [],
   "source": [
    "companies = None # To-Do"
   ]
  },
  {
   "attachments": {},
   "cell_type": "markdown",
   "metadata": {},
   "source": [
    "<p dir=rtl style=\"direction: rtl;text-align: justify;line-height:200%;font-family:vazir;font-size:medium\">\n",
    "<font face=\"vazirmatn\" size=3>\n",
    "خطوط زیر برای استانداردسازی شکل جدول اعمال می‌شوند. این خطوط را تغییر نداده و تنها سلول زیر را اجرا کنید.\n",
    "</font>\n",
    "</p>"
   ]
  },
  {
   "cell_type": "code",
   "execution_count": null,
   "metadata": {},
   "outputs": [],
   "source": [
    "companies.columns.name = None\n",
    "companies.index.name = None"
   ]
  },
  {
   "attachments": {},
   "cell_type": "markdown",
   "metadata": {
    "id": "pnlGnmVsaV0_"
   },
   "source": [
    "<h2 align=right style=\"line-height:200%;font-family:vazir;color:#0099cc\">\n",
    "<font face=\"vazirmatn\" color=\"#0099cc\">\n",
    "قسمت سوم\n",
    "</font>\n",
    "</h2>\n",
    "<p dir=rtl style=\"direction: rtl;text-align: justify;line-height:200%;font-family:vazir;font-size:medium\">\n",
    "<font face=\"vazirmatn\" size=3>\n",
    "برای پیدا کردن بهترین شرکت‌ها می‌خواهیم تنها امتیاز سال‌های ۲۰۱۲ به بعد را در نظر بگیریم (خود سال ۲۰۱۲ را هم در نظر بگیرید).\n",
    "ابتدا به ازای هر کمپانی، میانگین امتیاز سال‌های ۲۰۱۲ به بعد آن را محاسبه کرده و در متغیر <code>mean_ratings</code> ذخیره کنید.\n",
    "توجه داشته باشید که خروجی شما باید یک سری پانداز (<code>pd.Series</code>) باشد.\n",
    "</font>\n",
    "</p>\n"
   ]
  },
  {
   "cell_type": "code",
   "execution_count": null,
   "metadata": {
    "colab": {
     "base_uri": "https://localhost:8080/"
    },
    "executionInfo": {
     "elapsed": 446,
     "status": "ok",
     "timestamp": 1627498961315,
     "user": {
      "displayName": "Parto Shahroodi",
      "photoUrl": "https://lh3.googleusercontent.com/a-/AOh14GgVRnuIKtxzeAYtLGbbb7NnFc-HXqxuTOJ6OMw7uw=s64",
      "userId": "08853559073941204272"
     },
     "user_tz": -270
    },
    "id": "fA-hFYchWhq8",
    "outputId": "39f233c9-037d-4982-9282-bac8e9270524"
   },
   "outputs": [],
   "source": [
    "mean_ratings = None # To-Do"
   ]
  },
  {
   "attachments": {},
   "cell_type": "markdown",
   "metadata": {},
   "source": [
    "<p dir=rtl style=\"direction: rtl;text-align: justify;line-height:200%;font-family:vazir;font-size:medium\">\n",
    "<font face=\"vazirmatn\" size=3>\n",
    "اکنون به کمک میانگین امتیاز هر کمپانی (<code>mean_ratings</code>)، ۱۰ کمپانی با بهترین امتیاز را پیدا کنید و در متغیر <code>best_ratings</code> ذخیره کنید. توجه داشته باشید که خروجی شما باید یک سری پانداز (<code>pd.Series</code>) باشد.\n",
    "</font>\n",
    "</p>\n",
    "\n",
    "<p dir=rtl style=\"direction: rtl;text-align: justify;line-height:200%;font-family:vazir;font-size:medium\">\n",
    "<font face=\"vazirmatn\" size=3>\n",
    "<span style=\"color:purple\"><b>توجه:</b></span>\n",
    "در مواردی که امتیاز کمپانی‌ها یکسان باشد، باید کمپانی را براساس ترتیب حروف الفبا انتخاب کنید. به‌عنوان مثال اگر دو کمپانی <code>A</code> و <code>B</code> هر دو میانگین امتیاز <code>75.00</code> داشته باشند، اولویت با شرکت <code>A</code> است.\n",
    "</font>\n",
    "</p>"
   ]
  },
  {
   "cell_type": "code",
   "execution_count": null,
   "metadata": {},
   "outputs": [],
   "source": [
    "best_ratings = None # To-Do"
   ]
  },
  {
   "attachments": {},
   "cell_type": "markdown",
   "metadata": {
    "id": "x-Z5ei7XaYzB"
   },
   "source": [
    "<h2 align=right style=\"line-height:200%;font-family:vazir;color:#0099cc\">\n",
    "<font face=\"vazirmatn\" color=\"#0099cc\">\n",
    "قسمت چهارم\n",
    "</font>\n",
    "</h2>\n",
    "<p dir=rtl style=\"direction: rtl;text-align: justify;line-height:200%;font-family:vazir;font-size:medium\">\n",
    "<font face=\"vazirmatn\" size=3>\n",
    "اکنون شکلات‌هایی که کمپانی سازنده‌شان جزو ۱۰ شرکت برتر (<code>best_ratings</code>) است را از دیتافریم <code>df</code> انتخاب کرده و در دیتافریم <code>chocolates_to_sell</code> ذخیره کنید.\n",
    "</font>\n",
    "</p>\n",
    "\n",
    "\n",
    "<p dir=rtl style=\"direction: rtl;text-align: justify;line-height:200%;font-family:vazir;font-size:medium\">\n",
    "<font face=\"vazirmatn\" size=3>\n",
    "<span style=\"color:green\"><b>راهنمایی ۱:</b></span>\n",
    "بعد از انتخاب این شکلات‌ها، به‌کمک دستور <code>reset_index</code> نمایه‌ها را ریست کنید. استفاده از آرگومان <code>drop</code> را نیز فراموش نکنید.\n",
    "\n",
    "<br>\n",
    "<span style=\"color:green\"><b>راهنمایی ۲:</b></span>\n",
    "برای بررسی وجود یک متغیر در یک لیست می‌توانید از تابع <code>isin</code> استفاده کنید.\n",
    "</font>\n",
    "</p>"
   ]
  },
  {
   "cell_type": "code",
   "execution_count": null,
   "metadata": {
    "colab": {
     "base_uri": "https://localhost:8080/",
     "height": 1000
    },
    "executionInfo": {
     "elapsed": 383,
     "status": "ok",
     "timestamp": 1627461617410,
     "user": {
      "displayName": "Parto Shahroodi",
      "photoUrl": "https://lh3.googleusercontent.com/a-/AOh14GgVRnuIKtxzeAYtLGbbb7NnFc-HXqxuTOJ6OMw7uw=s64",
      "userId": "08853559073941204272"
     },
     "user_tz": -270
    },
    "id": "eBCbfxjd-Ps5",
    "outputId": "22c49c90-ca6c-407f-9eeb-7597dcc799ef"
   },
   "outputs": [],
   "source": [
    "chocolates_to_sell = None # To-Do"
   ]
  },
  {
   "attachments": {},
   "cell_type": "markdown",
   "metadata": {
    "id": "WGVRfSTsa6lv"
   },
   "source": [
    "<h2 align=right style=\"line-height:200%;font-family:vazir;color:#0099cc\">\n",
    "<font face=\"vazirmatn\" color=\"#0099cc\">\n",
    "قسمت پنجم\n",
    "</font>\n",
    "</h2>\n",
    "<p dir=rtl style=\"direction: rtl;text-align: right;line-height:200%;font-family:vazir;font-size:medium\">\n",
    "<font face=\"vazirmatn\" size=3>\n",
    "در نهایت مجموع قیمت این شکلات‌ها (<code>chocolates_to_sell</code>) را در متغیر <code>priceSum</code> ذخیره کنید تا مجموع دریافتی ما از این شکلات‌ها هم مشخص شود.\n",
    "</font>\n",
    "</p>"
   ]
  },
  {
   "cell_type": "code",
   "execution_count": null,
   "metadata": {
    "colab": {
     "base_uri": "https://localhost:8080/"
    },
    "executionInfo": {
     "elapsed": 794,
     "status": "ok",
     "timestamp": 1627323016155,
     "user": {
      "displayName": "Parto Shahroodi",
      "photoUrl": "https://lh3.googleusercontent.com/a-/AOh14GgVRnuIKtxzeAYtLGbbb7NnFc-HXqxuTOJ6OMw7uw=s64",
      "userId": "08853559073941204272"
     },
     "user_tz": -270
    },
    "id": "WlUvsyfj_ijl",
    "outputId": "777be270-30d7-4d59-becd-c0bf27e5e97a"
   },
   "outputs": [],
   "source": [
    "priceSum = None # To-Do"
   ]
  },
  {
   "attachments": {},
   "cell_type": "markdown",
   "metadata": {
    "id": "bHYK4FH4bBU0"
   },
   "source": [
    "<h2 align=right style=\"line-height:200%;font-family:vazir;color:#0099cc\">\n",
    "<font face=\"vazirmatn\" color=\"#0099cc\">\n",
    "<b>سلول جواب‌ساز</b>\n",
    "</font>\n",
    "</h2>\n",
    "\n",
    "\n",
    "<p dir=rtl style=\"direction: rtl; text-align: justify; line-height:200%; font-family:vazir; font-size:medium\">\n",
    "<font face=\"vazirmatn\" size=3>\n",
    "    برای ساخته‌شدن فایل <code>result.zip</code> سلول زیر را اجرا کنید. توجه داشته باشید که پیش از اجرای سلول زیر تغییرات اعمال شده در نت‌بوک را ذخیره کرده باشید (<code>ctrl+s</code>) تا در صورت نیاز به پشتیبانی امکان بررسی کد شما وجود داشته باشد.\n",
    "</font>\n",
    "</p>"
   ]
  },
  {
   "cell_type": "code",
   "execution_count": null,
   "metadata": {
    "id": "m3zsfIAcbDJa"
   },
   "outputs": [],
   "source": [
    "import zlib\n",
    "import zipfile\n",
    "\n",
    "def compress(file_names):\n",
    "    print(\"File Paths:\")\n",
    "    print(file_names)\n",
    "    compression = zipfile.ZIP_DEFLATED\n",
    "    with zipfile.ZipFile(\"result.zip\", mode=\"w\") as zf:\n",
    "        for file_name in file_names:\n",
    "            zf.write('./' + file_name, file_name, compress_type=compression)\n",
    "\n",
    "df.to_csv('normal_chocolates.csv', index = True)\n",
    "companies.to_csv('companies.csv', index = True)\n",
    "chocolates_to_sell.to_csv('chocolates_to_sell.csv', index = True)\n",
    "mean_ratings.to_csv(\"mean_ratings.csv\", index = True)\n",
    "best_ratings.to_csv(\"best_ratings.csv\", index = True)\n",
    "\n",
    "np.savez(\"answers.npz\" ,priceSum = priceSum)\n",
    "file_names = [\"answers.npz\", \"project1_step3.ipynb\", \"chocolates_to_sell.csv\", \n",
    "              \"companies.csv\", \"mean_ratings.csv\", \"best_ratings.csv\", \"normal_chocolates.csv\"]\n",
    "compress(file_names)"
   ]
  }
 ],
 "metadata": {
  "colab": {
   "authorship_tag": "ABX9TyPsom0lLlC0TBmB6Rp+DZQC",
   "collapsed_sections": [],
   "name": "گام سوم.ipynb",
   "provenance": []
  },
  "kernelspec": {
   "display_name": "Python 3",
   "language": "python",
   "name": "python3"
  },
  "language_info": {
   "codemirror_mode": {
    "name": "ipython",
    "version": 3
   },
   "file_extension": ".py",
   "mimetype": "text/x-python",
   "name": "python",
   "nbconvert_exporter": "python",
   "pygments_lexer": "ipython3",
   "version": "3.8.0"
  },
  "vscode": {
   "interpreter": {
    "hash": "44e7e1b8fa2096bd5707ed7fd18b1724a2db25f4c565a7673f8b6e7bfc49d25d"
   }
  }
 },
 "nbformat": 4,
 "nbformat_minor": 4
}
